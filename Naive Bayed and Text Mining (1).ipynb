{
 "cells": [
  {
   "cell_type": "code",
   "execution_count": 6,
   "id": "8bfd2109-8226-465d-960b-4dfc5b71197c",
   "metadata": {},
   "outputs": [
    {
     "data": {
      "text/html": [
       "<div>\n",
       "<style scoped>\n",
       "    .dataframe tbody tr th:only-of-type {\n",
       "        vertical-align: middle;\n",
       "    }\n",
       "\n",
       "    .dataframe tbody tr th {\n",
       "        vertical-align: top;\n",
       "    }\n",
       "\n",
       "    .dataframe thead th {\n",
       "        text-align: right;\n",
       "    }\n",
       "</style>\n",
       "<table border=\"1\" class=\"dataframe\">\n",
       "  <thead>\n",
       "    <tr style=\"text-align: right;\">\n",
       "      <th></th>\n",
       "      <th>Data</th>\n",
       "      <th>Labels</th>\n",
       "    </tr>\n",
       "  </thead>\n",
       "  <tbody>\n",
       "    <tr>\n",
       "      <th>0</th>\n",
       "      <td>Path: cantaloupe.srv.cs.cmu.edu!magnesium.club...</td>\n",
       "      <td>alt.atheism</td>\n",
       "    </tr>\n",
       "    <tr>\n",
       "      <th>1</th>\n",
       "      <td>Newsgroups: alt.atheism\\nPath: cantaloupe.srv....</td>\n",
       "      <td>alt.atheism</td>\n",
       "    </tr>\n",
       "    <tr>\n",
       "      <th>2</th>\n",
       "      <td>Path: cantaloupe.srv.cs.cmu.edu!das-news.harva...</td>\n",
       "      <td>alt.atheism</td>\n",
       "    </tr>\n",
       "    <tr>\n",
       "      <th>3</th>\n",
       "      <td>Path: cantaloupe.srv.cs.cmu.edu!magnesium.club...</td>\n",
       "      <td>alt.atheism</td>\n",
       "    </tr>\n",
       "    <tr>\n",
       "      <th>4</th>\n",
       "      <td>Xref: cantaloupe.srv.cs.cmu.edu alt.atheism:53...</td>\n",
       "      <td>alt.atheism</td>\n",
       "    </tr>\n",
       "    <tr>\n",
       "      <th>...</th>\n",
       "      <td>...</td>\n",
       "      <td>...</td>\n",
       "    </tr>\n",
       "    <tr>\n",
       "      <th>1995</th>\n",
       "      <td>Xref: cantaloupe.srv.cs.cmu.edu talk.abortion:...</td>\n",
       "      <td>talk.religion.misc</td>\n",
       "    </tr>\n",
       "    <tr>\n",
       "      <th>1996</th>\n",
       "      <td>Xref: cantaloupe.srv.cs.cmu.edu talk.religion....</td>\n",
       "      <td>talk.religion.misc</td>\n",
       "    </tr>\n",
       "    <tr>\n",
       "      <th>1997</th>\n",
       "      <td>Xref: cantaloupe.srv.cs.cmu.edu talk.origins:4...</td>\n",
       "      <td>talk.religion.misc</td>\n",
       "    </tr>\n",
       "    <tr>\n",
       "      <th>1998</th>\n",
       "      <td>Xref: cantaloupe.srv.cs.cmu.edu talk.religion....</td>\n",
       "      <td>talk.religion.misc</td>\n",
       "    </tr>\n",
       "    <tr>\n",
       "      <th>1999</th>\n",
       "      <td>Xref: cantaloupe.srv.cs.cmu.edu sci.skeptic:43...</td>\n",
       "      <td>talk.religion.misc</td>\n",
       "    </tr>\n",
       "  </tbody>\n",
       "</table>\n",
       "<p>2000 rows × 2 columns</p>\n",
       "</div>"
      ],
      "text/plain": [
       "                                                   Data              Labels\n",
       "0     Path: cantaloupe.srv.cs.cmu.edu!magnesium.club...         alt.atheism\n",
       "1     Newsgroups: alt.atheism\\nPath: cantaloupe.srv....         alt.atheism\n",
       "2     Path: cantaloupe.srv.cs.cmu.edu!das-news.harva...         alt.atheism\n",
       "3     Path: cantaloupe.srv.cs.cmu.edu!magnesium.club...         alt.atheism\n",
       "4     Xref: cantaloupe.srv.cs.cmu.edu alt.atheism:53...         alt.atheism\n",
       "...                                                 ...                 ...\n",
       "1995  Xref: cantaloupe.srv.cs.cmu.edu talk.abortion:...  talk.religion.misc\n",
       "1996  Xref: cantaloupe.srv.cs.cmu.edu talk.religion....  talk.religion.misc\n",
       "1997  Xref: cantaloupe.srv.cs.cmu.edu talk.origins:4...  talk.religion.misc\n",
       "1998  Xref: cantaloupe.srv.cs.cmu.edu talk.religion....  talk.religion.misc\n",
       "1999  Xref: cantaloupe.srv.cs.cmu.edu sci.skeptic:43...  talk.religion.misc\n",
       "\n",
       "[2000 rows x 2 columns]"
      ]
     },
     "execution_count": 6,
     "metadata": {},
     "output_type": "execute_result"
    }
   ],
   "source": [
    "import pandas as pd\n",
    "import string\n",
    "import nltk\n",
    "from nltk.corpus import stopwords\n",
    "from nltk.tokenize import word_tokenize\n",
    "from sklearn.feature_extraction.text import TfidfVectorizer\n",
    "df = pd.read_csv('C://Users//Nitin//Downloads//blogs.csv')\n",
    "df"
   ]
  },
  {
   "cell_type": "code",
   "execution_count": 5,
   "id": "3f716f3a-e99a-4553-9743-d55199d804f7",
   "metadata": {},
   "outputs": [
    {
     "name": "stdout",
     "output_type": "stream",
     "text": [
      "<class 'pandas.core.frame.DataFrame'>\n",
      "RangeIndex: 2000 entries, 0 to 1999\n",
      "Data columns (total 2 columns):\n",
      " #   Column  Non-Null Count  Dtype \n",
      "---  ------  --------------  ----- \n",
      " 0   Data    2000 non-null   object\n",
      " 1   Labels  2000 non-null   object\n",
      "dtypes: object(2)\n",
      "memory usage: 31.4+ KB\n",
      "None\n",
      "                                                Data       Labels\n",
      "0  Path: cantaloupe.srv.cs.cmu.edu!magnesium.club...  alt.atheism\n",
      "1  Newsgroups: alt.atheism\\nPath: cantaloupe.srv....  alt.atheism\n",
      "2  Path: cantaloupe.srv.cs.cmu.edu!das-news.harva...  alt.atheism\n",
      "3  Path: cantaloupe.srv.cs.cmu.edu!magnesium.club...  alt.atheism\n",
      "4  Xref: cantaloupe.srv.cs.cmu.edu alt.atheism:53...  alt.atheism\n"
     ]
    }
   ],
   "source": [
    "# Step 2: Display basic information about the dataset\n",
    "print(df.info())\n",
    "print(df.head())"
   ]
  },
  {
   "cell_type": "code",
   "execution_count": 7,
   "id": "adb0259d-267e-4c7d-827e-6528db298bbe",
   "metadata": {},
   "outputs": [
    {
     "name": "stderr",
     "output_type": "stream",
     "text": [
      "[nltk_data] Downloading package punkt to\n",
      "[nltk_data]     C:\\Users\\Nitin\\AppData\\Roaming\\nltk_data...\n",
      "[nltk_data]   Package punkt is already up-to-date!\n",
      "[nltk_data] Downloading package stopwords to\n",
      "[nltk_data]     C:\\Users\\Nitin\\AppData\\Roaming\\nltk_data...\n",
      "[nltk_data]   Package stopwords is already up-to-date!\n"
     ]
    },
    {
     "data": {
      "text/plain": [
       "True"
      ]
     },
     "execution_count": 7,
     "metadata": {},
     "output_type": "execute_result"
    }
   ],
   "source": [
    "# Download necessary NLTK resources\n",
    "nltk.download('punkt')\n",
    "nltk.download('stopwords')"
   ]
  },
  {
   "cell_type": "code",
   "execution_count": 9,
   "id": "cf2dfb98-732a-473f-8c9f-8840eaaaa184",
   "metadata": {},
   "outputs": [
    {
     "data": {
      "text/plain": [
       "{'a',\n",
       " 'about',\n",
       " 'above',\n",
       " 'after',\n",
       " 'again',\n",
       " 'against',\n",
       " 'ain',\n",
       " 'all',\n",
       " 'am',\n",
       " 'an',\n",
       " 'and',\n",
       " 'any',\n",
       " 'are',\n",
       " 'aren',\n",
       " \"aren't\",\n",
       " 'as',\n",
       " 'at',\n",
       " 'be',\n",
       " 'because',\n",
       " 'been',\n",
       " 'before',\n",
       " 'being',\n",
       " 'below',\n",
       " 'between',\n",
       " 'both',\n",
       " 'but',\n",
       " 'by',\n",
       " 'can',\n",
       " 'couldn',\n",
       " \"couldn't\",\n",
       " 'd',\n",
       " 'did',\n",
       " 'didn',\n",
       " \"didn't\",\n",
       " 'do',\n",
       " 'does',\n",
       " 'doesn',\n",
       " \"doesn't\",\n",
       " 'doing',\n",
       " 'don',\n",
       " \"don't\",\n",
       " 'down',\n",
       " 'during',\n",
       " 'each',\n",
       " 'few',\n",
       " 'for',\n",
       " 'from',\n",
       " 'further',\n",
       " 'had',\n",
       " 'hadn',\n",
       " \"hadn't\",\n",
       " 'has',\n",
       " 'hasn',\n",
       " \"hasn't\",\n",
       " 'have',\n",
       " 'haven',\n",
       " \"haven't\",\n",
       " 'having',\n",
       " 'he',\n",
       " 'her',\n",
       " 'here',\n",
       " 'hers',\n",
       " 'herself',\n",
       " 'him',\n",
       " 'himself',\n",
       " 'his',\n",
       " 'how',\n",
       " 'i',\n",
       " 'if',\n",
       " 'in',\n",
       " 'into',\n",
       " 'is',\n",
       " 'isn',\n",
       " \"isn't\",\n",
       " 'it',\n",
       " \"it's\",\n",
       " 'its',\n",
       " 'itself',\n",
       " 'just',\n",
       " 'll',\n",
       " 'm',\n",
       " 'ma',\n",
       " 'me',\n",
       " 'mightn',\n",
       " \"mightn't\",\n",
       " 'more',\n",
       " 'most',\n",
       " 'mustn',\n",
       " \"mustn't\",\n",
       " 'my',\n",
       " 'myself',\n",
       " 'needn',\n",
       " \"needn't\",\n",
       " 'no',\n",
       " 'nor',\n",
       " 'not',\n",
       " 'now',\n",
       " 'o',\n",
       " 'of',\n",
       " 'off',\n",
       " 'on',\n",
       " 'once',\n",
       " 'only',\n",
       " 'or',\n",
       " 'other',\n",
       " 'our',\n",
       " 'ours',\n",
       " 'ourselves',\n",
       " 'out',\n",
       " 'over',\n",
       " 'own',\n",
       " 're',\n",
       " 's',\n",
       " 'same',\n",
       " 'shan',\n",
       " \"shan't\",\n",
       " 'she',\n",
       " \"she's\",\n",
       " 'should',\n",
       " \"should've\",\n",
       " 'shouldn',\n",
       " \"shouldn't\",\n",
       " 'so',\n",
       " 'some',\n",
       " 'such',\n",
       " 't',\n",
       " 'than',\n",
       " 'that',\n",
       " \"that'll\",\n",
       " 'the',\n",
       " 'their',\n",
       " 'theirs',\n",
       " 'them',\n",
       " 'themselves',\n",
       " 'then',\n",
       " 'there',\n",
       " 'these',\n",
       " 'they',\n",
       " 'this',\n",
       " 'those',\n",
       " 'through',\n",
       " 'to',\n",
       " 'too',\n",
       " 'under',\n",
       " 'until',\n",
       " 'up',\n",
       " 've',\n",
       " 'very',\n",
       " 'was',\n",
       " 'wasn',\n",
       " \"wasn't\",\n",
       " 'we',\n",
       " 'were',\n",
       " 'weren',\n",
       " \"weren't\",\n",
       " 'what',\n",
       " 'when',\n",
       " 'where',\n",
       " 'which',\n",
       " 'while',\n",
       " 'who',\n",
       " 'whom',\n",
       " 'why',\n",
       " 'will',\n",
       " 'with',\n",
       " 'won',\n",
       " \"won't\",\n",
       " 'wouldn',\n",
       " \"wouldn't\",\n",
       " 'y',\n",
       " 'you',\n",
       " \"you'd\",\n",
       " \"you'll\",\n",
       " \"you're\",\n",
       " \"you've\",\n",
       " 'your',\n",
       " 'yours',\n",
       " 'yourself',\n",
       " 'yourselves'}"
      ]
     },
     "execution_count": 9,
     "metadata": {},
     "output_type": "execute_result"
    }
   ],
   "source": [
    "# Initialize stopwords set\n",
    "stop_words = set(stopwords.words('english'))\n",
    "stop_words"
   ]
  },
  {
   "cell_type": "code",
   "execution_count": 12,
   "id": "c53c1007-ff6e-4ca4-88b3-3174187c4138",
   "metadata": {},
   "outputs": [],
   "source": [
    "# Preprocessing function\n",
    "def preprocess_text(text):\n",
    "    # Remove punctuation\n",
    "    text = text.translate(str.maketrans('', '', string.punctuation))\n",
    "    # Convert text to lowercase\n",
    "    text = text.lower()\n",
    "    # Tokenize text\n",
    "    tokens = word_tokenize(text)\n",
    "    tokens\n",
    "    # Remove stopwords\n",
    "    tokens = [word for word in tokens if word not in stop_words]\n",
    "    return ' '.join(tokens)\n"
   ]
  },
  {
   "cell_type": "code",
   "execution_count": 14,
   "id": "5f12bb3a-37ae-4fd0-8eab-34c88d675d4e",
   "metadata": {},
   "outputs": [
    {
     "data": {
      "text/plain": [
       "0       path cantaloupesrvcscmuedumagnesiumclubcccmued...\n",
       "1       newsgroups altatheism path cantaloupesrvcscmue...\n",
       "2       path cantaloupesrvcscmuedudasnewsharvardedunoc...\n",
       "3       path cantaloupesrvcscmuedumagnesiumclubcccmued...\n",
       "4       xref cantaloupesrvcscmuedu altatheism53485 tal...\n",
       "                              ...                        \n",
       "1995    xref cantaloupesrvcscmuedu talkabortion120945 ...\n",
       "1996    xref cantaloupesrvcscmuedu talkreligionmisc837...\n",
       "1997    xref cantaloupesrvcscmuedu talkorigins41030 ta...\n",
       "1998    xref cantaloupesrvcscmuedu talkreligionmisc836...\n",
       "1999    xref cantaloupesrvcscmuedu sciskeptic43561 tal...\n",
       "Name: Processed_Data, Length: 2000, dtype: object"
      ]
     },
     "execution_count": 14,
     "metadata": {},
     "output_type": "execute_result"
    }
   ],
   "source": [
    "# Apply preprocessing to the 'Data' column\n",
    "df['Processed_Data'] = df['Data'].apply(preprocess_text)\n",
    "df['Processed_Data']\n"
   ]
  },
  {
   "cell_type": "code",
   "execution_count": 15,
   "id": "f0b72170-6f28-47d2-a472-5be79cf66f5f",
   "metadata": {},
   "outputs": [
    {
     "name": "stdout",
     "output_type": "stream",
     "text": [
      "                                                Data  \\\n",
      "0  Path: cantaloupe.srv.cs.cmu.edu!magnesium.club...   \n",
      "1  Newsgroups: alt.atheism\\nPath: cantaloupe.srv....   \n",
      "2  Path: cantaloupe.srv.cs.cmu.edu!das-news.harva...   \n",
      "3  Path: cantaloupe.srv.cs.cmu.edu!magnesium.club...   \n",
      "4  Xref: cantaloupe.srv.cs.cmu.edu alt.atheism:53...   \n",
      "\n",
      "                                      Processed_Data       Labels  \n",
      "0  path cantaloupesrvcscmuedumagnesiumclubcccmued...  alt.atheism  \n",
      "1  newsgroups altatheism path cantaloupesrvcscmue...  alt.atheism  \n",
      "2  path cantaloupesrvcscmuedudasnewsharvardedunoc...  alt.atheism  \n",
      "3  path cantaloupesrvcscmuedumagnesiumclubcccmued...  alt.atheism  \n",
      "4  xref cantaloupesrvcscmuedu altatheism53485 tal...  alt.atheism  \n"
     ]
    }
   ],
   "source": [
    "# Display the first few rows of the processed data\n",
    "print(df[['Data', 'Processed_Data', 'Labels']].head())"
   ]
  },
  {
   "cell_type": "code",
   "execution_count": 17,
   "id": "ef172f5e-4cbb-4812-9408-f280ac337299",
   "metadata": {},
   "outputs": [
    {
     "data": {
      "text/plain": [
       "<2000x56432 sparse matrix of type '<class 'numpy.float64'>'\n",
       "\twith 268023 stored elements in Compressed Sparse Row format>"
      ]
     },
     "execution_count": 17,
     "metadata": {},
     "output_type": "execute_result"
    }
   ],
   "source": [
    "# Step 3: Feature Extraction using TF-IDF\n",
    "tfidf_vectorizer = TfidfVectorizer()\n",
    "X_tfidf = tfidf_vectorizer.fit_transform(df['Processed_Data'])\n",
    "X_tfidf"
   ]
  },
  {
   "cell_type": "code",
   "execution_count": 18,
   "id": "d5aa7a97-3f02-41b7-8601-2ea33f3d23db",
   "metadata": {},
   "outputs": [
    {
     "name": "stdout",
     "output_type": "stream",
     "text": [
      "(2000, 56432)\n"
     ]
    }
   ],
   "source": [
    "# Display the shape of the TF-IDF feature matrix\n",
    "print(X_tfidf.shape)"
   ]
  },
  {
   "cell_type": "code",
   "execution_count": 19,
   "id": "68196bb7-5e69-45cc-b686-efd637389322",
   "metadata": {},
   "outputs": [],
   "source": [
    "from sklearn.model_selection import train_test_split\n",
    "from sklearn.naive_bayes import MultinomialNB\n",
    "from sklearn.metrics import accuracy_score, classification_report"
   ]
  },
  {
   "cell_type": "code",
   "execution_count": 20,
   "id": "9e51756e-405c-4a09-9840-231990dad9aa",
   "metadata": {},
   "outputs": [],
   "source": [
    "# Split the data into training and test sets\n",
    "X_train, X_test, y_train, y_test = train_test_split(X_tfidf, df['Labels'], test_size=0.2, random_state=42)\n"
   ]
  },
  {
   "cell_type": "code",
   "execution_count": 21,
   "id": "e628c30b-3805-4e3e-9175-268ee68604e0",
   "metadata": {},
   "outputs": [
    {
     "data": {
      "text/html": [
       "<style>#sk-container-id-1 {color: black;background-color: white;}#sk-container-id-1 pre{padding: 0;}#sk-container-id-1 div.sk-toggleable {background-color: white;}#sk-container-id-1 label.sk-toggleable__label {cursor: pointer;display: block;width: 100%;margin-bottom: 0;padding: 0.3em;box-sizing: border-box;text-align: center;}#sk-container-id-1 label.sk-toggleable__label-arrow:before {content: \"▸\";float: left;margin-right: 0.25em;color: #696969;}#sk-container-id-1 label.sk-toggleable__label-arrow:hover:before {color: black;}#sk-container-id-1 div.sk-estimator:hover label.sk-toggleable__label-arrow:before {color: black;}#sk-container-id-1 div.sk-toggleable__content {max-height: 0;max-width: 0;overflow: hidden;text-align: left;background-color: #f0f8ff;}#sk-container-id-1 div.sk-toggleable__content pre {margin: 0.2em;color: black;border-radius: 0.25em;background-color: #f0f8ff;}#sk-container-id-1 input.sk-toggleable__control:checked~div.sk-toggleable__content {max-height: 200px;max-width: 100%;overflow: auto;}#sk-container-id-1 input.sk-toggleable__control:checked~label.sk-toggleable__label-arrow:before {content: \"▾\";}#sk-container-id-1 div.sk-estimator input.sk-toggleable__control:checked~label.sk-toggleable__label {background-color: #d4ebff;}#sk-container-id-1 div.sk-label input.sk-toggleable__control:checked~label.sk-toggleable__label {background-color: #d4ebff;}#sk-container-id-1 input.sk-hidden--visually {border: 0;clip: rect(1px 1px 1px 1px);clip: rect(1px, 1px, 1px, 1px);height: 1px;margin: -1px;overflow: hidden;padding: 0;position: absolute;width: 1px;}#sk-container-id-1 div.sk-estimator {font-family: monospace;background-color: #f0f8ff;border: 1px dotted black;border-radius: 0.25em;box-sizing: border-box;margin-bottom: 0.5em;}#sk-container-id-1 div.sk-estimator:hover {background-color: #d4ebff;}#sk-container-id-1 div.sk-parallel-item::after {content: \"\";width: 100%;border-bottom: 1px solid gray;flex-grow: 1;}#sk-container-id-1 div.sk-label:hover label.sk-toggleable__label {background-color: #d4ebff;}#sk-container-id-1 div.sk-serial::before {content: \"\";position: absolute;border-left: 1px solid gray;box-sizing: border-box;top: 0;bottom: 0;left: 50%;z-index: 0;}#sk-container-id-1 div.sk-serial {display: flex;flex-direction: column;align-items: center;background-color: white;padding-right: 0.2em;padding-left: 0.2em;position: relative;}#sk-container-id-1 div.sk-item {position: relative;z-index: 1;}#sk-container-id-1 div.sk-parallel {display: flex;align-items: stretch;justify-content: center;background-color: white;position: relative;}#sk-container-id-1 div.sk-item::before, #sk-container-id-1 div.sk-parallel-item::before {content: \"\";position: absolute;border-left: 1px solid gray;box-sizing: border-box;top: 0;bottom: 0;left: 50%;z-index: -1;}#sk-container-id-1 div.sk-parallel-item {display: flex;flex-direction: column;z-index: 1;position: relative;background-color: white;}#sk-container-id-1 div.sk-parallel-item:first-child::after {align-self: flex-end;width: 50%;}#sk-container-id-1 div.sk-parallel-item:last-child::after {align-self: flex-start;width: 50%;}#sk-container-id-1 div.sk-parallel-item:only-child::after {width: 0;}#sk-container-id-1 div.sk-dashed-wrapped {border: 1px dashed gray;margin: 0 0.4em 0.5em 0.4em;box-sizing: border-box;padding-bottom: 0.4em;background-color: white;}#sk-container-id-1 div.sk-label label {font-family: monospace;font-weight: bold;display: inline-block;line-height: 1.2em;}#sk-container-id-1 div.sk-label-container {text-align: center;}#sk-container-id-1 div.sk-container {/* jupyter's `normalize.less` sets `[hidden] { display: none; }` but bootstrap.min.css set `[hidden] { display: none !important; }` so we also need the `!important` here to be able to override the default hidden behavior on the sphinx rendered scikit-learn.org. See: https://github.com/scikit-learn/scikit-learn/issues/21755 */display: inline-block !important;position: relative;}#sk-container-id-1 div.sk-text-repr-fallback {display: none;}</style><div id=\"sk-container-id-1\" class=\"sk-top-container\"><div class=\"sk-text-repr-fallback\"><pre>MultinomialNB()</pre><b>In a Jupyter environment, please rerun this cell to show the HTML representation or trust the notebook. <br />On GitHub, the HTML representation is unable to render, please try loading this page with nbviewer.org.</b></div><div class=\"sk-container\" hidden><div class=\"sk-item\"><div class=\"sk-estimator sk-toggleable\"><input class=\"sk-toggleable__control sk-hidden--visually\" id=\"sk-estimator-id-1\" type=\"checkbox\" checked><label for=\"sk-estimator-id-1\" class=\"sk-toggleable__label sk-toggleable__label-arrow\">MultinomialNB</label><div class=\"sk-toggleable__content\"><pre>MultinomialNB()</pre></div></div></div></div></div>"
      ],
      "text/plain": [
       "MultinomialNB()"
      ]
     },
     "execution_count": 21,
     "metadata": {},
     "output_type": "execute_result"
    }
   ],
   "source": [
    "# Implement a Naive Bayes classifier\n",
    "nb_classifier = MultinomialNB()\n",
    "nb_classifier.fit(X_train, y_train)"
   ]
  },
  {
   "cell_type": "code",
   "execution_count": 23,
   "id": "85a03f31-c6b2-4710-9823-d6ec29cbd0ae",
   "metadata": {},
   "outputs": [
    {
     "data": {
      "text/plain": [
       "array(['talk.politics.misc', 'comp.sys.ibm.pc.hardware', 'sci.med',\n",
       "       'rec.sport.baseball', 'sci.electronics', 'sci.electronics',\n",
       "       'rec.sport.baseball', 'talk.politics.mideast', 'alt.atheism',\n",
       "       'sci.med', 'alt.atheism', 'sci.electronics', 'sci.crypt',\n",
       "       'rec.sport.baseball', 'comp.sys.ibm.pc.hardware',\n",
       "       'comp.os.ms-windows.misc', 'rec.autos', 'comp.graphics',\n",
       "       'talk.politics.guns', 'talk.politics.misc',\n",
       "       'comp.sys.mac.hardware', 'alt.atheism', 'alt.atheism',\n",
       "       'rec.sport.hockey', 'alt.atheism', 'sci.crypt',\n",
       "       'talk.politics.misc', 'rec.sport.baseball', 'rec.autos',\n",
       "       'alt.atheism', 'talk.politics.misc', 'rec.sport.hockey',\n",
       "       'comp.windows.x', 'rec.sport.hockey', 'rec.sport.hockey',\n",
       "       'comp.sys.mac.hardware', 'sci.med', 'sci.electronics',\n",
       "       'rec.sport.hockey', 'comp.os.ms-windows.misc', 'sci.electronics',\n",
       "       'soc.religion.christian', 'comp.os.ms-windows.misc',\n",
       "       'talk.politics.misc', 'soc.religion.christian', 'rec.motorcycles',\n",
       "       'comp.windows.x', 'rec.motorcycles', 'alt.atheism',\n",
       "       'talk.politics.guns', 'soc.religion.christian',\n",
       "       'comp.os.ms-windows.misc', 'sci.space', 'comp.os.ms-windows.misc',\n",
       "       'rec.sport.baseball', 'talk.politics.mideast', 'sci.electronics',\n",
       "       'talk.politics.guns', 'sci.crypt', 'comp.sys.ibm.pc.hardware',\n",
       "       'sci.space', 'comp.graphics', 'talk.politics.guns',\n",
       "       'rec.sport.hockey', 'talk.religion.misc', 'talk.politics.misc',\n",
       "       'rec.sport.baseball', 'soc.religion.christian', 'comp.graphics',\n",
       "       'sci.space', 'sci.space', 'comp.sys.ibm.pc.hardware', 'sci.med',\n",
       "       'rec.sport.hockey', 'rec.motorcycles', 'comp.sys.ibm.pc.hardware',\n",
       "       'talk.politics.guns', 'talk.politics.misc', 'sci.electronics',\n",
       "       'talk.politics.misc', 'alt.atheism', 'rec.motorcycles',\n",
       "       'sci.space', 'soc.religion.christian', 'talk.politics.misc',\n",
       "       'rec.sport.baseball', 'talk.politics.mideast',\n",
       "       'comp.sys.mac.hardware', 'comp.graphics', 'talk.politics.guns',\n",
       "       'soc.religion.christian', 'talk.politics.mideast',\n",
       "       'comp.os.ms-windows.misc', 'comp.os.ms-windows.misc',\n",
       "       'talk.politics.misc', 'talk.politics.misc', 'comp.graphics',\n",
       "       'sci.electronics', 'soc.religion.christian', 'talk.politics.misc',\n",
       "       'rec.sport.baseball', 'rec.sport.baseball',\n",
       "       'comp.sys.mac.hardware', 'sci.med', 'comp.os.ms-windows.misc',\n",
       "       'rec.motorcycles', 'misc.forsale', 'comp.os.ms-windows.misc',\n",
       "       'rec.motorcycles', 'comp.windows.x', 'rec.autos', 'sci.space',\n",
       "       'rec.sport.hockey', 'talk.politics.mideast', 'rec.autos',\n",
       "       'sci.crypt', 'sci.crypt', 'rec.sport.baseball',\n",
       "       'comp.sys.ibm.pc.hardware', 'talk.politics.misc',\n",
       "       'talk.politics.misc', 'rec.sport.hockey', 'sci.crypt',\n",
       "       'comp.sys.mac.hardware', 'comp.sys.ibm.pc.hardware',\n",
       "       'soc.religion.christian', 'comp.sys.mac.hardware',\n",
       "       'rec.motorcycles', 'sci.crypt', 'comp.sys.ibm.pc.hardware',\n",
       "       'talk.religion.misc', 'talk.politics.misc', 'rec.autos',\n",
       "       'comp.windows.x', 'rec.motorcycles', 'rec.sport.baseball',\n",
       "       'alt.atheism', 'alt.atheism', 'talk.politics.guns',\n",
       "       'soc.religion.christian', 'sci.med', 'comp.sys.ibm.pc.hardware',\n",
       "       'talk.politics.misc', 'rec.motorcycles', 'soc.religion.christian',\n",
       "       'comp.windows.x', 'misc.forsale', 'comp.sys.mac.hardware',\n",
       "       'comp.os.ms-windows.misc', 'comp.graphics', 'talk.politics.guns',\n",
       "       'rec.sport.baseball', 'misc.forsale', 'sci.crypt',\n",
       "       'comp.sys.ibm.pc.hardware', 'misc.forsale', 'comp.windows.x',\n",
       "       'talk.politics.guns', 'comp.windows.x', 'talk.politics.guns',\n",
       "       'misc.forsale', 'rec.motorcycles', 'comp.graphics', 'sci.crypt',\n",
       "       'talk.religion.misc', 'sci.space', 'talk.politics.mideast',\n",
       "       'sci.electronics', 'comp.os.ms-windows.misc',\n",
       "       'talk.politics.mideast', 'sci.crypt', 'misc.forsale',\n",
       "       'alt.atheism', 'talk.politics.misc', 'comp.sys.mac.hardware',\n",
       "       'sci.med', 'rec.autos', 'sci.med', 'rec.motorcycles',\n",
       "       'soc.religion.christian', 'sci.electronics', 'rec.autos',\n",
       "       'talk.politics.misc', 'sci.crypt', 'rec.motorcycles', 'rec.autos',\n",
       "       'alt.atheism', 'talk.politics.guns', 'sci.crypt',\n",
       "       'sci.electronics', 'rec.autos', 'comp.os.ms-windows.misc',\n",
       "       'sci.med', 'comp.os.ms-windows.misc', 'alt.atheism',\n",
       "       'comp.sys.mac.hardware', 'sci.crypt', 'rec.motorcycles',\n",
       "       'misc.forsale', 'soc.religion.christian', 'talk.politics.misc',\n",
       "       'comp.windows.x', 'comp.graphics', 'rec.autos',\n",
       "       'comp.sys.mac.hardware', 'comp.os.ms-windows.misc', 'sci.space',\n",
       "       'comp.graphics', 'rec.sport.hockey', 'alt.atheism',\n",
       "       'talk.politics.mideast', 'alt.atheism', 'comp.os.ms-windows.misc',\n",
       "       'comp.graphics', 'rec.autos', 'talk.politics.misc', 'sci.crypt',\n",
       "       'comp.sys.ibm.pc.hardware', 'comp.sys.mac.hardware',\n",
       "       'sci.electronics', 'rec.sport.baseball', 'comp.graphics',\n",
       "       'comp.windows.x', 'sci.crypt', 'talk.politics.misc',\n",
       "       'talk.religion.misc', 'comp.sys.mac.hardware', 'comp.graphics',\n",
       "       'talk.politics.guns', 'comp.sys.ibm.pc.hardware', 'alt.atheism',\n",
       "       'comp.os.ms-windows.misc', 'talk.politics.guns', 'sci.space',\n",
       "       'talk.politics.mideast', 'comp.sys.ibm.pc.hardware',\n",
       "       'rec.sport.hockey', 'rec.motorcycles', 'sci.med', 'comp.windows.x',\n",
       "       'rec.autos', 'soc.religion.christian', 'comp.windows.x',\n",
       "       'rec.sport.baseball', 'sci.med', 'comp.graphics', 'rec.autos',\n",
       "       'soc.religion.christian', 'rec.motorcycles', 'sci.electronics',\n",
       "       'rec.sport.hockey', 'comp.sys.ibm.pc.hardware', 'sci.crypt',\n",
       "       'comp.sys.mac.hardware', 'sci.space', 'rec.sport.hockey',\n",
       "       'comp.windows.x', 'misc.forsale', 'talk.politics.misc',\n",
       "       'sci.electronics', 'alt.atheism', 'soc.religion.christian',\n",
       "       'alt.atheism', 'alt.atheism', 'rec.sport.hockey',\n",
       "       'soc.religion.christian', 'comp.graphics', 'comp.graphics',\n",
       "       'comp.os.ms-windows.misc', 'rec.sport.hockey', 'sci.med',\n",
       "       'alt.atheism', 'comp.sys.mac.hardware', 'talk.politics.guns',\n",
       "       'alt.atheism', 'alt.atheism', 'sci.electronics',\n",
       "       'comp.sys.mac.hardware', 'sci.space', 'comp.sys.ibm.pc.hardware',\n",
       "       'alt.atheism', 'sci.space', 'misc.forsale', 'sci.med', 'sci.med',\n",
       "       'alt.atheism', 'comp.os.ms-windows.misc', 'talk.politics.mideast',\n",
       "       'alt.atheism', 'comp.graphics', 'comp.sys.mac.hardware',\n",
       "       'soc.religion.christian', 'sci.space', 'talk.politics.guns',\n",
       "       'comp.windows.x', 'comp.sys.ibm.pc.hardware', 'talk.religion.misc',\n",
       "       'talk.politics.mideast', 'talk.politics.misc',\n",
       "       'comp.sys.mac.hardware', 'comp.windows.x', 'alt.atheism',\n",
       "       'talk.politics.guns', 'rec.sport.baseball', 'rec.autos',\n",
       "       'talk.religion.misc', 'sci.crypt', 'sci.med', 'rec.sport.baseball',\n",
       "       'alt.atheism', 'rec.sport.hockey', 'talk.politics.misc',\n",
       "       'sci.electronics', 'rec.sport.baseball', 'rec.sport.hockey',\n",
       "       'comp.graphics', 'soc.religion.christian',\n",
       "       'soc.religion.christian', 'talk.politics.misc',\n",
       "       'soc.religion.christian', 'alt.atheism', 'talk.politics.guns',\n",
       "       'comp.graphics', 'sci.crypt', 'rec.sport.baseball',\n",
       "       'comp.graphics', 'talk.religion.misc', 'misc.forsale',\n",
       "       'talk.politics.guns', 'rec.autos', 'comp.sys.mac.hardware',\n",
       "       'comp.windows.x', 'soc.religion.christian', 'comp.windows.x',\n",
       "       'comp.sys.ibm.pc.hardware', 'talk.politics.mideast',\n",
       "       'comp.os.ms-windows.misc', 'comp.graphics', 'sci.crypt',\n",
       "       'talk.politics.mideast', 'sci.space', 'comp.sys.ibm.pc.hardware',\n",
       "       'alt.atheism', 'rec.motorcycles', 'comp.windows.x',\n",
       "       'talk.politics.guns', 'comp.sys.ibm.pc.hardware', 'alt.atheism',\n",
       "       'soc.religion.christian', 'rec.sport.baseball', 'comp.graphics',\n",
       "       'comp.sys.mac.hardware', 'sci.space', 'talk.politics.guns',\n",
       "       'comp.graphics', 'comp.windows.x', 'talk.politics.mideast',\n",
       "       'talk.politics.mideast', 'sci.med', 'sci.crypt',\n",
       "       'talk.politics.misc', 'comp.sys.ibm.pc.hardware', 'rec.autos',\n",
       "       'rec.sport.hockey', 'misc.forsale', 'comp.sys.mac.hardware',\n",
       "       'talk.politics.mideast', 'sci.crypt', 'sci.crypt',\n",
       "       'comp.os.ms-windows.misc', 'soc.religion.christian',\n",
       "       'talk.politics.mideast', 'alt.atheism', 'talk.politics.misc',\n",
       "       'soc.religion.christian', 'soc.religion.christian',\n",
       "       'comp.sys.mac.hardware', 'talk.politics.mideast',\n",
       "       'talk.politics.misc', 'sci.space', 'sci.space', 'sci.electronics',\n",
       "       'comp.sys.mac.hardware', 'talk.politics.guns', 'comp.graphics',\n",
       "       'rec.autos', 'comp.graphics', 'sci.space', 'misc.forsale',\n",
       "       'soc.religion.christian', 'talk.politics.mideast',\n",
       "       'talk.politics.guns', 'comp.sys.mac.hardware', 'rec.autos',\n",
       "       'comp.windows.x', 'rec.sport.baseball', 'sci.electronics',\n",
       "       'talk.politics.mideast', 'sci.electronics', 'comp.windows.x'],\n",
       "      dtype='<U24')"
      ]
     },
     "execution_count": 23,
     "metadata": {},
     "output_type": "execute_result"
    }
   ],
   "source": [
    "# Predict the categories for the test set\n",
    "y_pred = nb_classifier.predict(X_test)\n",
    "y_pred"
   ]
  },
  {
   "cell_type": "code",
   "execution_count": 24,
   "id": "74c907b6-36ec-44fe-beb2-dd214fbd2cca",
   "metadata": {},
   "outputs": [
    {
     "name": "stdout",
     "output_type": "stream",
     "text": [
      "Accuracy: 0.82\n",
      "Classification Report:\n",
      "                          precision    recall  f1-score   support\n",
      "\n",
      "             alt.atheism       0.52      0.89      0.65        18\n",
      "           comp.graphics       0.62      0.83      0.71        18\n",
      " comp.os.ms-windows.misc       0.95      0.86      0.90        22\n",
      "comp.sys.ibm.pc.hardware       0.95      0.76      0.84        25\n",
      "   comp.sys.mac.hardware       0.87      0.95      0.91        21\n",
      "          comp.windows.x       1.00      0.80      0.89        25\n",
      "            misc.forsale       0.92      0.61      0.73        18\n",
      "               rec.autos       0.89      0.89      0.89        18\n",
      "         rec.motorcycles       0.88      0.88      0.88        16\n",
      "      rec.sport.baseball       0.80      0.89      0.84        18\n",
      "        rec.sport.hockey       0.83      1.00      0.91        15\n",
      "               sci.crypt       0.82      0.95      0.88        19\n",
      "         sci.electronics       0.68      0.81      0.74        16\n",
      "                 sci.med       0.94      0.88      0.91        17\n",
      "               sci.space       1.00      0.86      0.92        21\n",
      "  soc.religion.christian       0.85      0.96      0.90        23\n",
      "      talk.politics.guns       0.95      0.75      0.84        28\n",
      "   talk.politics.mideast       0.95      0.95      0.95        20\n",
      "      talk.politics.misc       0.57      0.89      0.70        18\n",
      "      talk.religion.misc       0.71      0.21      0.32        24\n",
      "\n",
      "                accuracy                           0.82       400\n",
      "               macro avg       0.84      0.83      0.82       400\n",
      "            weighted avg       0.84      0.82      0.81       400\n",
      "\n"
     ]
    }
   ],
   "source": [
    "# Evaluate the model\n",
    "accuracy = accuracy_score(y_test, y_pred)\n",
    "report = classification_report(y_test, y_pred)\n",
    "\n",
    "print(f'Accuracy: {accuracy}')\n",
    "print('Classification Report:')\n",
    "print(report)"
   ]
  },
  {
   "cell_type": "code",
   "execution_count": 26,
   "id": "531f9c95-fda1-4a32-8736-01b299e784be",
   "metadata": {},
   "outputs": [],
   "source": [
    "# Sentiment Analysis\n",
    "# Initialize the VADER sentiment intensity analyzer\n",
    "from nltk.sentiment.vader import SentimentIntensityAnalyzer\n",
    "sid = SentimentIntensityAnalyzer()"
   ]
  },
  {
   "cell_type": "code",
   "execution_count": 27,
   "id": "40eab5e5-4259-4bb4-857b-843d5cf0c5c6",
   "metadata": {},
   "outputs": [],
   "source": [
    "# Function to analyze sentiment\n",
    "def analyze_sentiment(text):\n",
    "    scores = sid.polarity_scores(text)\n",
    "    compound = scores['compound']\n",
    "    if compound >= 0.05:\n",
    "        return 'positive'\n",
    "    elif compound <= -0.05:\n",
    "        return 'negative'\n",
    "    else:\n",
    "        return 'neutral'"
   ]
  },
  {
   "cell_type": "code",
   "execution_count": 29,
   "id": "791b2754-a88f-4804-bca1-637cbcf000a8",
   "metadata": {},
   "outputs": [
    {
     "data": {
      "text/plain": [
       "0       negative\n",
       "1       positive\n",
       "2       negative\n",
       "3       negative\n",
       "4       positive\n",
       "          ...   \n",
       "1995    positive\n",
       "1996    positive\n",
       "1997    positive\n",
       "1998    positive\n",
       "1999    negative\n",
       "Name: Sentiment, Length: 2000, dtype: object"
      ]
     },
     "execution_count": 29,
     "metadata": {},
     "output_type": "execute_result"
    }
   ],
   "source": [
    "# Apply sentiment analysis to the 'Data' column\n",
    "df['Sentiment'] = df['Data'].apply(analyze_sentiment)\n",
    "df['Sentiment']"
   ]
  },
  {
   "cell_type": "code",
   "execution_count": 31,
   "id": "00690dfa-27f5-4884-b583-3c6e76b31f48",
   "metadata": {},
   "outputs": [
    {
     "name": "stdout",
     "output_type": "stream",
     "text": [
      "                                                Data Sentiment       Labels\n",
      "0  Path: cantaloupe.srv.cs.cmu.edu!magnesium.club...  negative  alt.atheism\n",
      "1  Newsgroups: alt.atheism\\nPath: cantaloupe.srv....  positive  alt.atheism\n",
      "2  Path: cantaloupe.srv.cs.cmu.edu!das-news.harva...  negative  alt.atheism\n",
      "3  Path: cantaloupe.srv.cs.cmu.edu!magnesium.club...  negative  alt.atheism\n",
      "4  Xref: cantaloupe.srv.cs.cmu.edu alt.atheism:53...  positive  alt.atheism\n"
     ]
    }
   ],
   "source": [
    "# Display the first few rows with sentiment\n",
    "print(df[['Data', 'Sentiment', 'Labels']].head())"
   ]
  },
  {
   "cell_type": "code",
   "execution_count": 34,
   "id": "8f4a3cb2-4264-4e9e-9a42-1e7ce4197267",
   "metadata": {},
   "outputs": [],
   "source": [
    "# Examine the distribution of sentiments across different categories\n",
    "sentiment_distribution = df.groupby(['Labels', 'Sentiment']).size().unstack().fillna(0)"
   ]
  },
  {
   "cell_type": "code",
   "execution_count": 45,
   "id": "45702889-a729-4aa4-adb5-e53e0bad7c40",
   "metadata": {},
   "outputs": [
    {
     "data": {
      "text/plain": [
       "<Figure size 1500x600 with 0 Axes>"
      ]
     },
     "metadata": {},
     "output_type": "display_data"
    },
    {
     "data": {
      "image/png": "[encoded data removed]",
      "text/plain": [
       "<Figure size 640x480 with 1 Axes>"
      ]
     },
     "metadata": {},
     "output_type": "display_data"
    },
    {
     "name": "stdout",
     "output_type": "stream",
     "text": [
      "Sentiment   negative    neutral   positive\n",
      "count      20.000000  20.000000  20.000000\n",
      "mean       31.550000   1.750000  66.700000\n",
      "std        15.776315   1.970172  14.829203\n",
      "min         7.000000   0.000000  31.000000\n",
      "25%        23.250000   0.000000  63.250000\n",
      "50%        28.500000   1.000000  71.000000\n",
      "75%        36.500000   2.250000  75.000000\n",
      "max        69.000000   8.000000  85.000000\n"
     ]
    }
   ],
   "source": [
    "import matplotlib.pyplot as plt\n",
    "import seaborn as sns\n",
    "# Plot the distribution\n",
    "plt.figure(figsize=(15,6))\n",
    "sentiment_distribution.plot(kind='bar', stacked=True)\n",
    "plt.title('Sentiment Distribution Across Different Categories')\n",
    "plt.xlabel('Category')\n",
    "plt.ylabel('Number of Posts')\n",
    "plt.xticks(rotation=90)\n",
    "plt.legend(title='Sentiment')\n",
    "plt.show()\n",
    "\n",
    "# Summarize findings\n",
    "summary = sentiment_distribution.describe()\n",
    "print(summary)"
   ]
  },
  {
   "cell_type": "code",
   "execution_count": 46,
   "id": "ba264ab4-e379-44ae-88ec-29ffefdfe4ca",
   "metadata": {},
   "outputs": [
    {
     "name": "stdout",
     "output_type": "stream",
     "text": [
      "Accuracy: 0.82\n",
      "Classification Report:\n",
      "                          precision    recall  f1-score   support\n",
      "\n",
      "             alt.atheism       0.52      0.89      0.65        18\n",
      "           comp.graphics       0.62      0.83      0.71        18\n",
      " comp.os.ms-windows.misc       0.95      0.86      0.90        22\n",
      "comp.sys.ibm.pc.hardware       0.95      0.76      0.84        25\n",
      "   comp.sys.mac.hardware       0.87      0.95      0.91        21\n",
      "          comp.windows.x       1.00      0.80      0.89        25\n",
      "            misc.forsale       0.92      0.61      0.73        18\n",
      "               rec.autos       0.89      0.89      0.89        18\n",
      "         rec.motorcycles       0.88      0.88      0.88        16\n",
      "      rec.sport.baseball       0.80      0.89      0.84        18\n",
      "        rec.sport.hockey       0.83      1.00      0.91        15\n",
      "               sci.crypt       0.82      0.95      0.88        19\n",
      "         sci.electronics       0.68      0.81      0.74        16\n",
      "                 sci.med       0.94      0.88      0.91        17\n",
      "               sci.space       1.00      0.86      0.92        21\n",
      "  soc.religion.christian       0.85      0.96      0.90        23\n",
      "      talk.politics.guns       0.95      0.75      0.84        28\n",
      "   talk.politics.mideast       0.95      0.95      0.95        20\n",
      "      talk.politics.misc       0.57      0.89      0.70        18\n",
      "      talk.religion.misc       0.71      0.21      0.32        24\n",
      "\n",
      "                accuracy                           0.82       400\n",
      "               macro avg       0.84      0.83      0.82       400\n",
      "            weighted avg       0.84      0.82      0.81       400\n",
      "\n"
     ]
    }
   ],
   "source": [
    "# Evaluate the model\n",
    "accuracy = accuracy_score(y_test, y_pred)\n",
    "report = classification_report(y_test, y_pred)\n",
    "\n",
    "print(f'Accuracy: {accuracy}')\n",
    "print('Classification Report:')\n",
    "print(report)"
   ]
  },
  {
   "cell_type": "code",
   "execution_count": 47,
   "id": "277d9432-1f79-46b3-a851-c4938ac28446",
   "metadata": {},
   "outputs": [],
   "source": [
    "#Performance Discussion and Challenges:\n",
    "#Performance Metrics:\n",
    "#The accuracy, precision, recall, and F1-score metrics provide a quantitative measure of the model's performance. High values for these metrics indicate good performance, whereas lower values suggest room for improvement.\n",
    "\n",
    "#Challenges Encountered:\n",
    "#Imbalanced Data: If certain categories are underrepresented, the model might be biased towards the majority class, affecting precision and recall for minority classes.\n",
    "#Text Preprocessing: Proper text preprocessing is crucial. Issues such as incorrect tokenization or incomplete stopword removal can impact feature extraction and, consequently, model performance.\n",
    "#Feature Extraction: Selecting the right features (using TF-IDF in this case) is important for capturing relevant information from the text. Insufficient or irrelevant features can degrade model performance."
   ]
  },
  {
   "cell_type": "markdown",
   "id": "7a359114-0df8-4d74-ae68-dac56d2b7a13",
   "metadata": {},
   "source": [
    "# Sentiment Analysis Results Reflection:"
   ]
  },
  {
   "cell_type": "code",
   "execution_count": null,
   "id": "16b7acfd-f7eb-401c-abab-f2e69e48bf92",
   "metadata": {},
   "outputs": [],
   "source": [
    "#The sentiment analysis results provide additional insights into the emotional tone of the blog posts. Understanding the distribution of sentiments across categories can help in tailoring content strategies, identifying areas for improvement, and better understanding the audience's emotional response to different topics. For instance, categories with predominantly negative sentiments might highlight areas of concern or topics that are controversial."
   ]
  },
  {
   "cell_type": "code",
   "execution_count": null,
   "id": "a0540f64-f681-4a46-967d-4d1ffbd07777",
   "metadata": {},
   "outputs": [],
   "source": []
  }
 ],
 "metadata": {
  "kernelspec": {
   "display_name": "Python 3 (ipykernel)",
   "language": "python",
   "name": "python3"
  },
  "language_info": {
   "codemirror_mode": {
    "name": "ipython",
    "version": 3
   },
   "file_extension": ".py",
   "mimetype": "text/x-python",
   "name": "python",
   "nbconvert_exporter": "python",
   "pygments_lexer": "ipython3",
   "version": "3.11.7"
  }
 },
 "nbformat": 4,
 "nbformat_minor": 5
}
